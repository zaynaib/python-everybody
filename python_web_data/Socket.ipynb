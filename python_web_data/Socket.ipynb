{
 "cells": [
  {
   "cell_type": "code",
   "execution_count": 1,
   "metadata": {
    "collapsed": true
   },
   "outputs": [],
   "source": [
    "import socket"
   ]
  },
  {
   "cell_type": "code",
   "execution_count": 13,
   "metadata": {
    "collapsed": true
   },
   "outputs": [],
   "source": [
    "mysock = socket.socket(socket.AF_INET, socket.SOCK_STREAM)\n",
    "mysock.connect(('www.pythonlearn.com',80))"
   ]
  },
  {
   "cell_type": "code",
   "execution_count": 14,
   "metadata": {
    "collapsed": false
   },
   "outputs": [
    {
     "data": {
      "text/plain": [
       "62"
      ]
     },
     "execution_count": 14,
     "metadata": {},
     "output_type": "execute_result"
    }
   ],
   "source": [
    "#http://stackoverflow.com/questions/2411864/python-socket-send-buffer-vs-str\n",
    "mysock.send(b'GET http://www.pythonlearn.com/code/intro-short.txt HTTP/1.0\\n\\n')"
   ]
  },
  {
   "cell_type": "code",
   "execution_count": 15,
   "metadata": {
    "collapsed": false
   },
   "outputs": [
    {
     "name": "stdout",
     "output_type": "stream",
     "text": [
      "b'HTTP/1.1 200 OK\\r\\nDate: Wed, 18 Nov 2015 14:40:34 GMT\\r\\nServer: Apache\\r\\nLast-Modified: Mon, 12 Oct 2015 14:55:29 GMT\\r\\nETag: \"20f7401b-1d3-521e9853a392b\"\\r\\nAccept-Ranges: bytes\\r\\nContent-Length: 467\\r\\nCache-Control: max-age=604800, public\\r\\nAccess-Control-Allow-Origin: *\\r\\nAccess-Control-Allow-Headers: origin, x-requested-with, content-type\\r\\nAccess-Control-Allow-Methods: GET\\r\\nConnection: close\\r\\nContent-Type: text/plain\\r\\n\\r\\nWhy should you learn to write programs?\\n\\nWriting programs (or programming) is a very creative'\n",
      "b'and rewarding activity.  You can write programs for \\nmany reasons, ranging from making your living to solving\\na difficult data analysis problem to having fun to helping\\nsomeone else solve a problem.  This book assumes that \\neveryone needs to know how to program, and that once \\nyou know how to program you will figure out what you want \\nto do with your newfound skills.'\n"
     ]
    }
   ],
   "source": [
    "while True:\n",
    "    data = mysock.recv(512).strip()\n",
    "    if(len(data)<1):\n",
    "        break\n",
    "    print(data)\n",
    "mysock.close()"
   ]
  },
  {
   "cell_type": "markdown",
   "metadata": {},
   "source": [
    "b'HTTP/1.1 200 OK\\r\\nDate: Wed, 18 Nov 2015 14:30:08 GMT\\r\\n\n",
    "Server: Apache\\r\\n\n",
    "Last-Modified: Mon, 12 Oct 2015 14:55:29 GMT\\r\\n\n",
    "ETag: \"20f7401b-1d3-521e9853a392b\"\\r\\n\n",
    "\n",
    "Accept-Ranges: bytes\\r\\n\n",
    "Content-Length: 467\\r\\n\n",
    "Cache-Control: max-age=604800, public\\r\\n\n",
    "Access-Control-Allow-Origin: *\\r\\n\n",
    "Access-Control-Allow-Headers: origin, x-requested-with, content-type\\r\\nAccess-Control-Allow-Methods: GET\\r\\n\n",
    "Connection: close\\r\\n\n",
    "Content-Type: text/plain\\r\\\n",
    "\n",
    "\n",
    "\n",
    "n\\r\\nWhy should you learn to write programs?\\n\\nWriting programs (or programming) is a very creative '\n",
    "b'\\nand rewarding activity.  You can write programs for \\nmany reasons, ranging from making your living to solving\\na difficult data analysis problem to having fun to helping\\nsomeone else solve a problem.  This book assumes that \\neveryone needs to know how to program, and that once \\nyou know how to program you will figure out what you want \\nto do with your newfound skills.  \\n'\n"
   ]
  },
  {
   "cell_type": "code",
   "execution_count": null,
   "metadata": {
    "collapsed": true
   },
   "outputs": [],
   "source": []
  }
 ],
 "metadata": {
  "kernelspec": {
   "display_name": "Python 3",
   "language": "python",
   "name": "python3"
  },
  "language_info": {
   "codemirror_mode": {
    "name": "ipython",
    "version": 3
   },
   "file_extension": ".py",
   "mimetype": "text/x-python",
   "name": "python",
   "nbconvert_exporter": "python",
   "pygments_lexer": "ipython3",
   "version": "3.4.3"
  }
 },
 "nbformat": 4,
 "nbformat_minor": 0
}
