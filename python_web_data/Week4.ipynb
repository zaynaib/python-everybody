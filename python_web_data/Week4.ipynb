{
 "cells": [
  {
   "cell_type": "code",
   "execution_count": 1,
   "metadata": {
    "collapsed": true
   },
   "outputs": [],
   "source": [
    "from bs4 import BeautifulSoup\n",
    "import urllib.request"
   ]
  },
  {
   "cell_type": "code",
   "execution_count": 4,
   "metadata": {
    "collapsed": false
   },
   "outputs": [
    {
     "name": "stdout",
     "output_type": "stream",
     "text": [
      "\n"
     ]
    }
   ],
   "source": [
    "url = \"http://pr4e.dr-chuck.com/tsugi/mod/python-data/data/known_by_Fikret.html\"\n",
    "request = urllib.request.Request(url)\n",
    "response = urllib.request.urlopen(request)\n",
    "content =response.read().decode('utf-8')"
   ]
  },
  {
   "cell_type": "code",
   "execution_count": 10,
   "metadata": {
    "collapsed": false
   },
   "outputs": [
    {
     "data": {
      "text/plain": [
       "list"
      ]
     },
     "execution_count": 10,
     "metadata": {},
     "output_type": "execute_result"
    }
   ],
   "source": [
    "#print(content)\n",
    "soup = BeautifulSoup(content)\n",
    "tags = soup.find_all('a')\n",
    "\n",
    "type(list(tags))"
   ]
  },
  {
   "cell_type": "code",
   "execution_count": 23,
   "metadata": {
    "collapsed": false
   },
   "outputs": [
    {
     "name": "stdout",
     "output_type": "stream",
     "text": [
      "http://pr4e.dr-chuck.com/tsugi/mod/python-data/data/known_by_Aniqa.html\n",
      "http://pr4e.dr-chuck.com/tsugi/mod/python-data/data/known_by_Ogheneruno.html\n",
      "http://pr4e.dr-chuck.com/tsugi/mod/python-data/data/known_by_Montgomery.html\n",
      "http://pr4e.dr-chuck.com/tsugi/mod/python-data/data/known_by_Owain.html\n",
      "http://pr4e.dr-chuck.com/tsugi/mod/python-data/data/known_by_Haniyah.html\n",
      "http://pr4e.dr-chuck.com/tsugi/mod/python-data/data/known_by_Anona.html\n",
      "http://pr4e.dr-chuck.com/tsugi/mod/python-data/data/known_by_Edyn.html\n",
      "http://pr4e.dr-chuck.com/tsugi/mod/python-data/data/known_by_Dallace.html\n",
      "http://pr4e.dr-chuck.com/tsugi/mod/python-data/data/known_by_Zoe.html\n",
      "http://pr4e.dr-chuck.com/tsugi/mod/python-data/data/known_by_Kiarash.html\n",
      "http://pr4e.dr-chuck.com/tsugi/mod/python-data/data/known_by_Tracy.html\n",
      "http://pr4e.dr-chuck.com/tsugi/mod/python-data/data/known_by_Carmyle.html\n",
      "http://pr4e.dr-chuck.com/tsugi/mod/python-data/data/known_by_Zahraa.html\n",
      "http://pr4e.dr-chuck.com/tsugi/mod/python-data/data/known_by_Alanys.html\n",
      "http://pr4e.dr-chuck.com/tsugi/mod/python-data/data/known_by_Airidas.html\n",
      "http://pr4e.dr-chuck.com/tsugi/mod/python-data/data/known_by_Melisa.html\n",
      "http://pr4e.dr-chuck.com/tsugi/mod/python-data/data/known_by_Vivian.html\n",
      "http://pr4e.dr-chuck.com/tsugi/mod/python-data/data/known_by_Margaret.html\n",
      "http://pr4e.dr-chuck.com/tsugi/mod/python-data/data/known_by_Hajra.html\n",
      "http://pr4e.dr-chuck.com/tsugi/mod/python-data/data/known_by_Ajooni.html\n",
      "http://pr4e.dr-chuck.com/tsugi/mod/python-data/data/known_by_Alexanne.html\n",
      "http://pr4e.dr-chuck.com/tsugi/mod/python-data/data/known_by_Sudais.html\n",
      "http://pr4e.dr-chuck.com/tsugi/mod/python-data/data/known_by_Seb.html\n",
      "http://pr4e.dr-chuck.com/tsugi/mod/python-data/data/known_by_Christin.html\n",
      "http://pr4e.dr-chuck.com/tsugi/mod/python-data/data/known_by_Jaimie.html\n",
      "http://pr4e.dr-chuck.com/tsugi/mod/python-data/data/known_by_Jennah.html\n",
      "http://pr4e.dr-chuck.com/tsugi/mod/python-data/data/known_by_Landon.html\n",
      "http://pr4e.dr-chuck.com/tsugi/mod/python-data/data/known_by_Mea.html\n",
      "http://pr4e.dr-chuck.com/tsugi/mod/python-data/data/known_by_Cacie.html\n",
      "http://pr4e.dr-chuck.com/tsugi/mod/python-data/data/known_by_Colton.html\n",
      "http://pr4e.dr-chuck.com/tsugi/mod/python-data/data/known_by_Mitchel.html\n",
      "http://pr4e.dr-chuck.com/tsugi/mod/python-data/data/known_by_Chintu.html\n",
      "http://pr4e.dr-chuck.com/tsugi/mod/python-data/data/known_by_Hyden.html\n",
      "http://pr4e.dr-chuck.com/tsugi/mod/python-data/data/known_by_Chrystal.html\n",
      "http://pr4e.dr-chuck.com/tsugi/mod/python-data/data/known_by_Lincon.html\n",
      "http://pr4e.dr-chuck.com/tsugi/mod/python-data/data/known_by_Jaden.html\n",
      "http://pr4e.dr-chuck.com/tsugi/mod/python-data/data/known_by_Roma.html\n",
      "http://pr4e.dr-chuck.com/tsugi/mod/python-data/data/known_by_Manolo.html\n",
      "http://pr4e.dr-chuck.com/tsugi/mod/python-data/data/known_by_Clio.html\n",
      "http://pr4e.dr-chuck.com/tsugi/mod/python-data/data/known_by_Teos.html\n",
      "http://pr4e.dr-chuck.com/tsugi/mod/python-data/data/known_by_Rihonn.html\n",
      "http://pr4e.dr-chuck.com/tsugi/mod/python-data/data/known_by_Griffin.html\n",
      "http://pr4e.dr-chuck.com/tsugi/mod/python-data/data/known_by_Conley.html\n",
      "http://pr4e.dr-chuck.com/tsugi/mod/python-data/data/known_by_Xiao.html\n",
      "http://pr4e.dr-chuck.com/tsugi/mod/python-data/data/known_by_Dhyia.html\n",
      "http://pr4e.dr-chuck.com/tsugi/mod/python-data/data/known_by_Manahil.html\n",
      "http://pr4e.dr-chuck.com/tsugi/mod/python-data/data/known_by_Diona.html\n",
      "http://pr4e.dr-chuck.com/tsugi/mod/python-data/data/known_by_Dharam.html\n",
      "http://pr4e.dr-chuck.com/tsugi/mod/python-data/data/known_by_Danielle.html\n",
      "http://pr4e.dr-chuck.com/tsugi/mod/python-data/data/known_by_Rori.html\n",
      "http://pr4e.dr-chuck.com/tsugi/mod/python-data/data/known_by_Lang.html\n",
      "http://pr4e.dr-chuck.com/tsugi/mod/python-data/data/known_by_Sabila.html\n",
      "http://pr4e.dr-chuck.com/tsugi/mod/python-data/data/known_by_Zoha.html\n",
      "http://pr4e.dr-chuck.com/tsugi/mod/python-data/data/known_by_Jemma.html\n",
      "http://pr4e.dr-chuck.com/tsugi/mod/python-data/data/known_by_Silvana.html\n",
      "http://pr4e.dr-chuck.com/tsugi/mod/python-data/data/known_by_Asal.html\n",
      "http://pr4e.dr-chuck.com/tsugi/mod/python-data/data/known_by_Dillon.html\n",
      "http://pr4e.dr-chuck.com/tsugi/mod/python-data/data/known_by_CJ.html\n",
      "http://pr4e.dr-chuck.com/tsugi/mod/python-data/data/known_by_Joanna.html\n",
      "http://pr4e.dr-chuck.com/tsugi/mod/python-data/data/known_by_Atal.html\n",
      "http://pr4e.dr-chuck.com/tsugi/mod/python-data/data/known_by_Callun.html\n",
      "http://pr4e.dr-chuck.com/tsugi/mod/python-data/data/known_by_Anubhav.html\n",
      "http://pr4e.dr-chuck.com/tsugi/mod/python-data/data/known_by_Coray.html\n",
      "http://pr4e.dr-chuck.com/tsugi/mod/python-data/data/known_by_Graeme.html\n",
      "http://pr4e.dr-chuck.com/tsugi/mod/python-data/data/known_by_Chrissie.html\n",
      "http://pr4e.dr-chuck.com/tsugi/mod/python-data/data/known_by_Ayub.html\n",
      "http://pr4e.dr-chuck.com/tsugi/mod/python-data/data/known_by_Heather.html\n",
      "http://pr4e.dr-chuck.com/tsugi/mod/python-data/data/known_by_Katie.html\n",
      "http://pr4e.dr-chuck.com/tsugi/mod/python-data/data/known_by_Inaara.html\n",
      "http://pr4e.dr-chuck.com/tsugi/mod/python-data/data/known_by_Siddhant.html\n",
      "http://pr4e.dr-chuck.com/tsugi/mod/python-data/data/known_by_Salymat.html\n",
      "http://pr4e.dr-chuck.com/tsugi/mod/python-data/data/known_by_Shahd.html\n",
      "http://pr4e.dr-chuck.com/tsugi/mod/python-data/data/known_by_Anaya.html\n",
      "http://pr4e.dr-chuck.com/tsugi/mod/python-data/data/known_by_Kevaugh.html\n",
      "http://pr4e.dr-chuck.com/tsugi/mod/python-data/data/known_by_Thumbiko.html\n",
      "http://pr4e.dr-chuck.com/tsugi/mod/python-data/data/known_by_Xida.html\n",
      "http://pr4e.dr-chuck.com/tsugi/mod/python-data/data/known_by_Alaska.html\n",
      "http://pr4e.dr-chuck.com/tsugi/mod/python-data/data/known_by_Shonagh.html\n",
      "http://pr4e.dr-chuck.com/tsugi/mod/python-data/data/known_by_Kaiya.html\n",
      "http://pr4e.dr-chuck.com/tsugi/mod/python-data/data/known_by_Khadija.html\n",
      "http://pr4e.dr-chuck.com/tsugi/mod/python-data/data/known_by_Kieron.html\n",
      "http://pr4e.dr-chuck.com/tsugi/mod/python-data/data/known_by_Filip.html\n",
      "http://pr4e.dr-chuck.com/tsugi/mod/python-data/data/known_by_Dorothy.html\n",
      "http://pr4e.dr-chuck.com/tsugi/mod/python-data/data/known_by_Kallan.html\n",
      "http://pr4e.dr-chuck.com/tsugi/mod/python-data/data/known_by_Mena.html\n",
      "http://pr4e.dr-chuck.com/tsugi/mod/python-data/data/known_by_Abbie.html\n",
      "http://pr4e.dr-chuck.com/tsugi/mod/python-data/data/known_by_Amyleigh.html\n",
      "http://pr4e.dr-chuck.com/tsugi/mod/python-data/data/known_by_Annalise.html\n",
      "http://pr4e.dr-chuck.com/tsugi/mod/python-data/data/known_by_Carrich.html\n",
      "http://pr4e.dr-chuck.com/tsugi/mod/python-data/data/known_by_Rachel.html\n",
      "http://pr4e.dr-chuck.com/tsugi/mod/python-data/data/known_by_Etinosa.html\n",
      "http://pr4e.dr-chuck.com/tsugi/mod/python-data/data/known_by_Amie.html\n",
      "http://pr4e.dr-chuck.com/tsugi/mod/python-data/data/known_by_Lisa.html\n",
      "http://pr4e.dr-chuck.com/tsugi/mod/python-data/data/known_by_Liv.html\n",
      "http://pr4e.dr-chuck.com/tsugi/mod/python-data/data/known_by_Baylie.html\n",
      "http://pr4e.dr-chuck.com/tsugi/mod/python-data/data/known_by_Jubin.html\n",
      "http://pr4e.dr-chuck.com/tsugi/mod/python-data/data/known_by_Kacie.html\n",
      "http://pr4e.dr-chuck.com/tsugi/mod/python-data/data/known_by_Falyn.html\n",
      "http://pr4e.dr-chuck.com/tsugi/mod/python-data/data/known_by_Conli.html\n",
      "http://pr4e.dr-chuck.com/tsugi/mod/python-data/data/known_by_Cohen.html\n"
     ]
    }
   ],
   "source": [
    "for link in tags:\n",
    "    print(link.get('href'))"
   ]
  },
  {
   "cell_type": "code",
   "execution_count": 22,
   "metadata": {
    "collapsed": false
   },
   "outputs": [
    {
     "name": "stdout",
     "output_type": "stream",
     "text": [
      "http://pr4e.dr-chuck.com/tsugi/mod/python-data/data/known_by_Montgomery.html\n",
      "http://pr4e.dr-chuck.com/tsugi/mod/python-data/data/known_by_Montgomery.html\n",
      "http://pr4e.dr-chuck.com/tsugi/mod/python-data/data/known_by_Montgomery.html\n",
      "http://pr4e.dr-chuck.com/tsugi/mod/python-data/data/known_by_Montgomery.html\n"
     ]
    }
   ],
   "source": [
    "for i in range(4):\n",
    "    print(tags[2].get('href'))\n",
    "#print(link.get('href'))"
   ]
  },
  {
   "cell_type": "code",
   "execution_count": 39,
   "metadata": {
    "collapsed": false
   },
   "outputs": [
    {
     "name": "stdout",
     "output_type": "stream",
     "text": [
      "http://pr4e.dr-chuck.com/tsugi/mod/python-data/data/known_by_Fikret.html\n",
      "http://pr4e.dr-chuck.com/tsugi/mod/python-data/data/known_by_Montgomery.html\n",
      "http://pr4e.dr-chuck.com/tsugi/mod/python-data/data/known_by_Mhairade.html\n",
      "http://pr4e.dr-chuck.com/tsugi/mod/python-data/data/known_by_Butchi.html\n",
      "http://pr4e.dr-chuck.com/tsugi/mod/python-data/data/known_by_Anayah.html\n"
     ]
    }
   ],
   "source": [
    "url = \"http://pr4e.dr-chuck.com/tsugi/mod/python-data/data/known_by_Fikret.html\"\n",
    "for i in range(5):\n",
    "    #print(url)\n",
    "    request = urllib.request.Request(url)\n",
    "    response = urllib.request.urlopen(request)\n",
    "    content =response.read().decode('utf-8')\n",
    "    soup = BeautifulSoup(content)\n",
    "    tags = soup.find_all('a')\n",
    "    #print(tags[3].get('href'))\n",
    "    print(url)\n",
    "    url = tags[2].get('href')"
   ]
  },
  {
   "cell_type": "code",
   "execution_count": 32,
   "metadata": {
    "collapsed": false
   },
   "outputs": [
    {
     "name": "stdout",
     "output_type": "stream",
     "text": [
      "\n"
     ]
    }
   ],
   "source": [
    "#http://danielfrg.com/blog/2013/04/01/nba-scraping-data/\n",
    "soup = BeautifulSoup(response, 'html.parser')\n",
    "print(soup.prettify())"
   ]
  },
  {
   "cell_type": "code",
   "execution_count": 42,
   "metadata": {
    "collapsed": false
   },
   "outputs": [
    {
     "name": "stdout",
     "output_type": "stream",
     "text": [
      "http://pr4e.dr-chuck.com/tsugi/mod/python-data/data/known_by_Zachary.html\n",
      "http://pr4e.dr-chuck.com/tsugi/mod/python-data/data/known_by_Beatriz.html\n",
      "http://pr4e.dr-chuck.com/tsugi/mod/python-data/data/known_by_Darien.html\n",
      "http://pr4e.dr-chuck.com/tsugi/mod/python-data/data/known_by_Asim.html\n",
      "http://pr4e.dr-chuck.com/tsugi/mod/python-data/data/known_by_Sabriyah.html\n",
      "http://pr4e.dr-chuck.com/tsugi/mod/python-data/data/known_by_Analyse.html\n",
      "http://pr4e.dr-chuck.com/tsugi/mod/python-data/data/known_by_Max.html\n",
      "http://pr4e.dr-chuck.com/tsugi/mod/python-data/data/known_by_Hope.html\n"
     ]
    }
   ],
   "source": [
    "url = \"http://pr4e.dr-chuck.com/tsugi/mod/python-data/data/known_by_Zachary.html\"\n",
    "for i in range(8):\n",
    "    #print(url)\n",
    "    request = urllib.request.Request(url)\n",
    "    response = urllib.request.urlopen(request)\n",
    "    content =response.read().decode('utf-8')\n",
    "    soup = BeautifulSoup(content)\n",
    "    tags = soup.find_all('a')\n",
    "    #print(tags[3].get('href'))\n",
    "    print(url)\n",
    "    url = tags[17].get('href')"
   ]
  },
  {
   "cell_type": "code",
   "execution_count": null,
   "metadata": {
    "collapsed": true
   },
   "outputs": [],
   "source": []
  }
 ],
 "metadata": {
  "kernelspec": {
   "display_name": "Python 3",
   "language": "python",
   "name": "python3"
  },
  "language_info": {
   "codemirror_mode": {
    "name": "ipython",
    "version": 3
   },
   "file_extension": ".py",
   "mimetype": "text/x-python",
   "name": "python",
   "nbconvert_exporter": "python",
   "pygments_lexer": "ipython3",
   "version": "3.4.3"
  }
 },
 "nbformat": 4,
 "nbformat_minor": 0
}
